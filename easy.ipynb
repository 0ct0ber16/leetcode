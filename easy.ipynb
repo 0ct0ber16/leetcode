{
 "cells": [
  {
   "attachments": {},
   "cell_type": "markdown",
   "metadata": {},
   "source": [
    "## 1. 删除排序数组中的重复项\n",
    "\n",
    "给你一个 升序排列 的数组 nums ，请你 原地 删除重复出现的元素，使每个元素 只出现一次 ，返回删除后数组的新长度。元素的 相对顺序 应该保持 一致 。\n",
    "\n",
    "由于在某些语言中不能改变数组的长度，所以必须将结果放在数组nums的第一部分。更规范地说，如果在删除重复项之后有 k 个元素，那么 nums 的前 k 个元素应该保存最终结果。\n",
    "\n",
    "将最终结果插入 nums 的前 k 个位置后返回 k 。\n",
    "\n",
    "不要使用额外的空间，你必须在 **原地** 修改输入数组 并在使用 O(1) 额外空间的条件下完成。"
   ]
  },
  {
   "attachments": {},
   "cell_type": "markdown",
   "metadata": {},
   "source": [
    "### 解题思路1.双指针\n",
    "    初始化两个指针i，j=i+1。i的功能是它前面的数字都不重复，j的功能是在后面寻找新的未出现的元素，如果找到则赋值给i+1,并更新i: i+=1。\n",
    "    比较i和j位置的数字是否相同，如果相同i不懂，j+1； 如果相同num[i+1] = num[j], i += 1。"
   ]
  },
  {
   "cell_type": "code",
   "execution_count": 1,
   "metadata": {},
   "outputs": [],
   "source": [
    "class Solution(object):\n",
    "    def removeDuplicates(self, nums):\n",
    "        \"\"\"\n",
    "        :type nums: List[int]\n",
    "        :rtype: int\n",
    "        \"\"\"\n",
    "        i = 0\n",
    "        for j in range(1, len(nums)):\n",
    "            if nums[i] != nums[j]:\n",
    "                nums[i+1] = nums[j]\n",
    "                i += 1\n",
    "        return i+1, nums[:i+1]"
   ]
  },
  {
   "cell_type": "code",
   "execution_count": 2,
   "metadata": {},
   "outputs": [
    {
     "name": "stdout",
     "output_type": "stream",
     "text": [
      "(5, [0, 1, 2, 3, 4])\n"
     ]
    }
   ],
   "source": [
    "nums = [0,0,1,1,1,2,2,3,3,4]\n",
    "# nums = [1,1,2]\n",
    "s = Solution()\n",
    "nums = s.removeDuplicates(nums)\n",
    "print(nums)"
   ]
  },
  {
   "attachments": {},
   "cell_type": "markdown",
   "metadata": {},
   "source": [
    "## 2. 买卖股票的最佳时机 \n",
    "给你一个整数数组 prices ，其中 prices[i] 表示某支股票第 i 天的价格。\n",
    "在每一天，你可以决定是否购买和/或出售股票。你在任何时候 最多 只能持有 一股 股票。你也可以先购买，然后在 同一天 出售。\n",
    "返回 你能获得的 最大 利润 。"
   ]
  },
  {
   "attachments": {},
   "cell_type": "markdown",
   "metadata": {},
   "source": [
    "### 示例\n",
    "输入：prices = [7,1,5,3,6,4]\n",
    "输出：7\n",
    "解释：在第 2 天（股票价格 = 1）的时候买入，在第 3 天（股票价格 = 5）的时候卖出, 这笔交易所能获得利润 = 5 - 1 = 4 。\n",
    "     随后，在第 4 天（股票价格 = 3）的时候买入，在第 5 天（股票价格 = 6）的时候卖出, 这笔交易所能获得利润 = 6 - 3 = 3 。\n",
    "     总利润为 4 + 3 = 7 。\n",
    "\n",
    "输入：prices = [1,2,3,4,5]\n",
    "输出：4\n",
    "解释：在第 1 天（股票价格 = 1）的时候买入，在第 5 天 （股票价格 = 5）的时候卖出, 这笔交易所能获得利润 = 5 - 1 = 4 。\n",
    "     总利润为 4 。\n",
    "\n",
    "输入：prices = [7,6,4,3,1]\n",
    "输出：0\n",
    "解释：在这种情况下, 交易无法获得正利润，所以不参与交易可以获得最大利润，最大利润为 0 。"
   ]
  },
  {
   "attachments": {},
   "cell_type": "markdown",
   "metadata": {},
   "source": [
    "### 解题思路1\n",
    "一个bool型列表c记录是否持有股票。\n",
    "判断未来一天的价格是否在上涨，上涨的话c为True，否则为False。"
   ]
  },
  {
   "cell_type": "code",
   "execution_count": 3,
   "metadata": {},
   "outputs": [],
   "source": [
    "import numpy as np\n",
    "class Solution(object):\n",
    "    def maxProfit(self, prices):\n",
    "        \"\"\"\n",
    "        :type prices: List[int]\n",
    "        :rtype: int\n",
    "        \"\"\"\n",
    "        l = len(prices)\n",
    "        c = np.asarray([False] * l)\n",
    "        money = 0\n",
    "        for i in range(l-1):\n",
    "            if prices[i] < prices[i+1]:\n",
    "                c[i] = True\n",
    "        for j in np.where(c)[0]:\n",
    "            if j < l-1:\n",
    "                money += (prices[j+1] - prices[j])\n",
    "\n",
    "        return money"
   ]
  },
  {
   "attachments": {},
   "cell_type": "markdown",
   "metadata": {},
   "source": [
    "### 优化"
   ]
  },
  {
   "cell_type": "code",
   "execution_count": 20,
   "metadata": {},
   "outputs": [],
   "source": [
    "class Solution(object):\n",
    "    def maxProfit(self, prices):\n",
    "        \"\"\"\n",
    "        :type prices: List[int]\n",
    "        :rtype: int\n",
    "        \"\"\"\n",
    "        l = len(prices)\n",
    "        money = 0\n",
    "        for i in range(l-1):\n",
    "            if prices[i] < prices[i+1]:\n",
    "                money += prices[i+1] - prices[i]\n",
    "\n",
    "        return money"
   ]
  },
  {
   "cell_type": "code",
   "execution_count": 21,
   "metadata": {},
   "outputs": [
    {
     "data": {
      "text/plain": [
       "0"
      ]
     },
     "execution_count": 21,
     "metadata": {},
     "output_type": "execute_result"
    }
   ],
   "source": [
    "prices = [7,6,4,3,1]\n",
    "s = Solution()\n",
    "m = s.maxProfit(prices)\n",
    "m"
   ]
  },
  {
   "attachments": {},
   "cell_type": "markdown",
   "metadata": {},
   "source": [
    "### 解题思路2 贪心算法\n",
    "用未来一天减去本天的最大值（必须大于等于0）作为该天的利润"
   ]
  },
  {
   "cell_type": "code",
   "execution_count": 5,
   "metadata": {},
   "outputs": [],
   "source": [
    "class Solution(object):\n",
    "    def maxProfit(self, prices):\n",
    "        \"\"\"\n",
    "        :type prices: List[int]\n",
    "        :rtype: int\n",
    "        \"\"\"\n",
    "        money = 0\n",
    "        for i in range(len(prices)-1):\n",
    "            money += max(0, prices[i+1] - prices[i])\n",
    "\n",
    "\n",
    "        return money"
   ]
  },
  {
   "cell_type": "code",
   "execution_count": 6,
   "metadata": {},
   "outputs": [
    {
     "data": {
      "text/plain": [
       "4"
      ]
     },
     "execution_count": 6,
     "metadata": {},
     "output_type": "execute_result"
    }
   ],
   "source": [
    "prices = [1,2,3,4,5]\n",
    "s = Solution()\n",
    "m = s.maxProfit(prices)\n",
    "m"
   ]
  },
  {
   "attachments": {},
   "cell_type": "markdown",
   "metadata": {},
   "source": [
    "### 解题思路3 动态规划算法\n",
    "初始化一个二维列表，\n",
    "dp[i][0]表示第i天手里没有股票时的利润： 情况1-当天没有交易：dp[i-1][0] 情况2-当天手里有一支股票给卖出了：dp[i-1][1]+prices[i] , 所以当天的最大利润是 max(dp[i-1][0], dp[i-1][1]+prices[i])\n",
    "dp[i][1]表示第i天手里有股票时的利润： 情况1-当天没有交易：dp[i-1][1] 情况2-当天手里买进一只股票：dp[i-1][0]-prices[i] ，所以当天的最大利润是 max(dp[i-1][1], dp[i-1][0]-prices[i])"
   ]
  },
  {
   "cell_type": "code",
   "execution_count": 18,
   "metadata": {},
   "outputs": [],
   "source": [
    "class Solution(object):\n",
    "    def maxProfit(self, prices):\n",
    "        \"\"\"\n",
    "        :type prices: List[int]\n",
    "        :rtype: int\n",
    "        \"\"\"\n",
    "        n = len(prices)\n",
    "        dp = [[0,0] for _ in range(n)]\n",
    "        dp[0][0] = 0\n",
    "        dp[0][1] = -prices[0]\n",
    "        for i in range(1, n):\n",
    "            dp[i][0] = max(dp[i-1][0], dp[i-1][1]+prices[i])\n",
    "            dp[i][1] = max(dp[i-1][1], dp[i-1][0]-prices[i])\n",
    "        return dp[n-1][0]"
   ]
  },
  {
   "cell_type": "code",
   "execution_count": 22,
   "metadata": {},
   "outputs": [
    {
     "data": {
      "text/plain": [
       "7"
      ]
     },
     "execution_count": 22,
     "metadata": {},
     "output_type": "execute_result"
    }
   ],
   "source": [
    "prices = [7,1,5,3,6,4]\n",
    "s = Solution()\n",
    "m = s.maxProfit(prices)\n",
    "m"
   ]
  },
  {
   "attachments": {},
   "cell_type": "markdown",
   "metadata": {},
   "source": [
    "## 3 旋转数组\n",
    "给定一个整数数组 nums，将数组中的元素向右轮转 k 个位置，其中 k 是非负数"
   ]
  },
  {
   "attachments": {},
   "cell_type": "markdown",
   "metadata": {},
   "source": [
    "### 示例\n",
    "输入: nums = [1,2,3,4,5,6,7], k = 3\n",
    "输出: [5,6,7,1,2,3,4]\n",
    "解释:\n",
    "向右轮转 1 步: [7,1,2,3,4,5,6]\n",
    "向右轮转 2 步: [6,7,1,2,3,4,5]\n",
    "向右轮转 3 步: [5,6,7,1,2,3,4]"
   ]
  },
  {
   "attachments": {},
   "cell_type": "markdown",
   "metadata": {},
   "source": [
    "### 解题思路1. 防止值的覆盖，倒序往右赋值，后面要溢出的存下来放到前面\n",
    "\n",
    "错误： 没有考虑k>len的情况，当k>n时，相当于完整的旋转了一圈，所以k对n取余数得到旋转的次数就可以。"
   ]
  },
  {
   "cell_type": "code",
   "execution_count": 111,
   "metadata": {},
   "outputs": [],
   "source": [
    "class Solution(object):\n",
    "    def rotate(self, nums, k):\n",
    "        \"\"\"\n",
    "        :type nums: List[int]\n",
    "        :type k: int\n",
    "        :rtype: None Do not return anything, modify nums in-place instead.\n",
    "        \"\"\"\n",
    "        n = len(nums)\n",
    "        k = k%n\n",
    "        for i in range(k):\n",
    "            t = nums[-1]\n",
    "            for j in range(n-2, -1, -1):\n",
    "                nums[j+1] = nums[j]\n",
    "            nums[0] = t\n",
    "        return nums"
   ]
  },
  {
   "cell_type": "code",
   "execution_count": 112,
   "metadata": {},
   "outputs": [
    {
     "name": "stdout",
     "output_type": "stream",
     "text": [
      "[2, 1]\n"
     ]
    }
   ],
   "source": [
    "s = Solution()\n",
    "nums = [1,2]\n",
    "k = 3\n",
    "nums = s.rotate(nums,k)\n",
    "print(nums)"
   ]
  },
  {
   "attachments": {},
   "cell_type": "markdown",
   "metadata": {},
   "source": [
    "### 解题思路2 在原地利用列表索引来旋转"
   ]
  },
  {
   "cell_type": "code",
   "execution_count": 109,
   "metadata": {},
   "outputs": [],
   "source": [
    "class Solution(object):\n",
    "    def rotate(self, nums, k):\n",
    "        \"\"\"\n",
    "        :type nums: List[int]\n",
    "        :type k: int\n",
    "        :rtype: None Do not return anything, modify nums in-place instead.\n",
    "        \"\"\" \n",
    "        n = len(nums)\n",
    "        k = k % n  # 确保 k 在 [0, n) 范围内\n",
    "        if k:\n",
    "            nums[:] = nums[-k:] + nums[:n-k]  # 直接修改原数组，不新建变量\n",
    "        return nums"
   ]
  },
  {
   "cell_type": "code",
   "execution_count": 110,
   "metadata": {},
   "outputs": [
    {
     "name": "stdout",
     "output_type": "stream",
     "text": [
      "[2, 1]\n"
     ]
    }
   ],
   "source": [
    "s = Solution()\n",
    "nums = [1,2]\n",
    "k = 3\n",
    "nums = s.rotate(nums,k)\n",
    "print(nums)"
   ]
  },
  {
   "attachments": {},
   "cell_type": "markdown",
   "metadata": {},
   "source": [
    "## 4 存在重复元素\n",
    "给你一个整数数组 nums 。如果任一值在数组中出现 至少两次 ，返回 true ；如果数组中每个元素互不相同，返回 false 。"
   ]
  },
  {
   "attachments": {},
   "cell_type": "markdown",
   "metadata": {},
   "source": [
    "### 示例\n",
    "输入：nums = [1,2,3,1]\n",
    "输出：true\n",
    "\n",
    "输入：nums = [1,2,3,4]\n",
    "输出：false\n",
    "\n",
    "输入：nums = [1,1,1,3,3,4,3,2,4,2]\n",
    "输出：true"
   ]
  },
  {
   "attachments": {},
   "cell_type": "markdown",
   "metadata": {},
   "source": [
    "### 解题思路1 set方法\n",
    "当set之后的列表长度小于原列表时，说明有重复的元素"
   ]
  },
  {
   "cell_type": "code",
   "execution_count": 113,
   "metadata": {},
   "outputs": [],
   "source": [
    "class Solution(object):\n",
    "    def containsDuplicate(self, nums):\n",
    "        \"\"\"\n",
    "        :type nums: List[int]\n",
    "        :rtype: bool\n",
    "        \"\"\"\n",
    "        return True if len(set(nums))<len(nums) else False"
   ]
  },
  {
   "cell_type": "code",
   "execution_count": 119,
   "metadata": {},
   "outputs": [
    {
     "data": {
      "text/plain": [
       "True"
      ]
     },
     "execution_count": 119,
     "metadata": {},
     "output_type": "execute_result"
    }
   ],
   "source": [
    "nums = [1,1,1,3,3,4,3,2,4,2]\n",
    "s = Solution()\n",
    "result = s.containsDuplicate(nums)\n",
    "result"
   ]
  },
  {
   "attachments": {},
   "cell_type": "markdown",
   "metadata": {},
   "source": [
    "### 解题思路2 hash table"
   ]
  },
  {
   "cell_type": "code",
   "execution_count": 117,
   "metadata": {},
   "outputs": [],
   "source": [
    "class Solution(object):\n",
    "    def containsDuplicate(self, nums):\n",
    "        \"\"\"\n",
    "        :type nums: List[int]\n",
    "        :rtype: bool\n",
    "        \"\"\"\n",
    "        hash_table = {}\n",
    "        for i in nums:\n",
    "            if i not in hash_table:\n",
    "                hash_table[i] = 1\n",
    "            else:\n",
    "                return True\n",
    "        return False"
   ]
  },
  {
   "attachments": {},
   "cell_type": "markdown",
   "metadata": {},
   "source": [
    "## 5 只出现一次的数字\n",
    "给你一个 非空 整数数组 nums ，除了某个元素只出现一次以外，其余每个元素均出现两次。找出那个只出现了一次的元素。\n",
    "\n",
    "你必须设计并实现线性时间复杂度的算法来解决此问题，且该算法只使用常量额外空间。"
   ]
  },
  {
   "attachments": {},
   "cell_type": "markdown",
   "metadata": {},
   "source": [
    "输入：nums = [2,2,1]\n",
    "输出：1\n",
    "\n",
    "输入：nums = [4,1,2,1,2]\n",
    "输出：4"
   ]
  },
  {
   "attachments": {},
   "cell_type": "markdown",
   "metadata": {},
   "source": [
    "### 解题思路1\n",
    "先创建哈希表存储出现的个数，然后逐元素索引"
   ]
  },
  {
   "cell_type": "code",
   "execution_count": 120,
   "metadata": {},
   "outputs": [],
   "source": [
    "class Solution(object):\n",
    "    def singleNumber(self, nums):\n",
    "        \"\"\"\n",
    "        :type nums: List[int]\n",
    "        :rtype: int\n",
    "        \"\"\"\n",
    "        hash_table = {}\n",
    "        for i in nums:\n",
    "            if i in hash_table:\n",
    "                hash_table[i] += 1\n",
    "            else:\n",
    "                hash_table[i] = 1\n",
    "        for key in hash_table:\n",
    "            if hash_table[key] == 1:\n",
    "                return key\n",
    "        "
   ]
  },
  {
   "cell_type": "code",
   "execution_count": 124,
   "metadata": {},
   "outputs": [
    {
     "data": {
      "text/plain": [
       "4"
      ]
     },
     "execution_count": 124,
     "metadata": {},
     "output_type": "execute_result"
    }
   ],
   "source": [
    "nums = [4,1,2,1,2]\n",
    "s = Solution()\n",
    "result = s.singleNumber(nums)\n",
    "result"
   ]
  },
  {
   "attachments": {},
   "cell_type": "markdown",
   "metadata": {},
   "source": [
    "### 解题思路2 异或\n",
    "异或运算有以下三个性质：\n",
    "1. 任何数和 0 做异或运算，结果仍然是原来的数\n",
    "2. 任何数和其自身做异或运算，结果是 0\n",
    "3. 异或运算满足交换律和结合律"
   ]
  },
  {
   "cell_type": "code",
   "execution_count": 123,
   "metadata": {},
   "outputs": [],
   "source": [
    "class Solution(object):\n",
    "    def singleNumber(self, nums):\n",
    "        \"\"\"\n",
    "        :type nums: List[int]\n",
    "        :rtype: int\n",
    "        \"\"\"\n",
    "        result = 0\n",
    "        for i in nums:\n",
    "            result ^= i\n",
    "        return result"
   ]
  },
  {
   "attachments": {},
   "cell_type": "markdown",
   "metadata": {},
   "source": [
    "## 6 两个数组的交集\n",
    "给你两个整数数组 nums1 和 nums2 ，请你以数组形式返回两数组的交集。返回结果中每个元素出现的次数，应与元素在两个数组中都出现的次数一致（如果出现次数不一致，则考虑取较小值）。可以不考虑输出结果的顺序。"
   ]
  },
  {
   "attachments": {},
   "cell_type": "markdown",
   "metadata": {},
   "source": [
    "### 解题思路1 哈希表\n",
    "分别将元素的个数统计为两个哈希表\n",
    "用集合求交集\n",
    "利用交集内的元素索引两个哈希表中个数较小的"
   ]
  },
  {
   "cell_type": "code",
   "execution_count": 138,
   "metadata": {},
   "outputs": [],
   "source": [
    "class Solution(object):\n",
    "    def intersect(self, nums1, nums2):\n",
    "        \"\"\"\n",
    "        :type nums1: List[int]\n",
    "        :type nums2: List[int]\n",
    "        :rtype: List[int]\n",
    "        \"\"\"\n",
    "\n",
    "        hash_table1 = {}\n",
    "        for i in nums1:\n",
    "            if i in hash_table1:\n",
    "                hash_table1[i] += 1\n",
    "            else:\n",
    "                hash_table1[i] = 1\n",
    "\n",
    "        hash_table2 = {}\n",
    "        for i in nums2:\n",
    "            if i in hash_table2:\n",
    "                hash_table2[i] += 1\n",
    "            else:\n",
    "                hash_table2[i] = 1\n",
    "\n",
    "        intersection = list(set(nums1).intersection(set(nums2)))\n",
    "        result = []\n",
    "        for key in intersection:\n",
    "            result += [key] * min(hash_table1[key], hash_table2[key])\n",
    "        return result"
   ]
  },
  {
   "cell_type": "code",
   "execution_count": 139,
   "metadata": {},
   "outputs": [
    {
     "data": {
      "text/plain": [
       "[2, 2]"
      ]
     },
     "execution_count": 139,
     "metadata": {},
     "output_type": "execute_result"
    }
   ],
   "source": [
    "nums1 = [1,2,2,1]\n",
    "nums2 = [2,2]\n",
    "s = Solution()\n",
    "result = s.intersect(nums1, nums2)\n",
    "result"
   ]
  },
  {
   "attachments": {},
   "cell_type": "markdown",
   "metadata": {},
   "source": [
    "## 7 加一\n",
    "给定一个由 整数 组成的 非空 数组所表示的非负整数，在该数的基础上加一。\n",
    "\n",
    "最高位数字存放在数组的首位， 数组中每个元素只存储单个数字。\n",
    "\n",
    "你可以假设除了整数 0 之外，这个整数不会以零开头。"
   ]
  },
  {
   "attachments": {},
   "cell_type": "markdown",
   "metadata": {},
   "source": [
    "### 示例\n",
    "输入：digits = [1,2,3]\n",
    "输出：[1,2,4]\n",
    "解释：输入数组表示数字 123。\n",
    "\n",
    "输入：digits = [4,3,2,1]\n",
    "输出：[4,3,2,2]\n",
    "解释：输入数组表示数字 4321。\n",
    "\n",
    "输入：digits = [0]\n",
    "输出：[1]"
   ]
  },
  {
   "attachments": {},
   "cell_type": "markdown",
   "metadata": {},
   "source": [
    "### 解题思路1 \n",
    "从末位向前判断该位是否为9，为9的话置为0，前一个元素加1。\n",
    "到首位还为9的话，数组在开始增加一位1"
   ]
  },
  {
   "cell_type": "code",
   "execution_count": 147,
   "metadata": {},
   "outputs": [],
   "source": [
    "class Solution(object):\n",
    "    def plusOne(self, digits):\n",
    "        \"\"\"\n",
    "        :type digits: List[int]\n",
    "        :rtype: List[int]\n",
    "        \"\"\"\n",
    "        for i in range(len(digits)-1, -1, -1):\n",
    "            if digits[i] == 9:\n",
    "                digits[i] = 0\n",
    "                if i == 0:\n",
    "                    return [1] + digits        \n",
    "            else:\n",
    "                digits[i] += 1\n",
    "                return digits\n"
   ]
  },
  {
   "cell_type": "code",
   "execution_count": 176,
   "metadata": {},
   "outputs": [
    {
     "data": {
      "text/plain": [
       "[1, 0, 0]"
      ]
     },
     "execution_count": 176,
     "metadata": {},
     "output_type": "execute_result"
    }
   ],
   "source": [
    "s = Solution()\n",
    "digits = [9,9]\n",
    "result = s.plusOne(digits)\n",
    "result"
   ]
  },
  {
   "attachments": {},
   "cell_type": "markdown",
   "metadata": {},
   "source": [
    "### 解题思路2\n",
    "将列表转换为数字并加1， 将加1后的数字转换为字符串，再对字符串的每个元素取int"
   ]
  },
  {
   "cell_type": "code",
   "execution_count": 177,
   "metadata": {},
   "outputs": [],
   "source": [
    "class Solution(object):\n",
    "    def plusOne(self, digits):\n",
    "        \"\"\"\n",
    "        :type digits: List[int]\n",
    "        :rtype: List[int]\n",
    "        \"\"\"\n",
    "        n = len(digits)\n",
    "        num = 0\n",
    "        for i in range(n):\n",
    "            num += digits[i] * 10**(n-1-i)\n",
    "\n",
    "        new_num = list(str(num + 1))\n",
    "        for j in range(len(new_num)):\n",
    "            new_num[j] = int(new_num[j])\n",
    "        return new_num"
   ]
  },
  {
   "cell_type": "code",
   "execution_count": 172,
   "metadata": {},
   "outputs": [
    {
     "data": {
      "text/plain": [
       "['1', '2', '3', '4']"
      ]
     },
     "execution_count": 172,
     "metadata": {},
     "output_type": "execute_result"
    }
   ],
   "source": [
    "list(str(1234))"
   ]
  },
  {
   "attachments": {},
   "cell_type": "markdown",
   "metadata": {},
   "source": [
    "## 8 移动零\n",
    "给定一个数组 nums，编写一个函数将所有 0 移动到数组的末尾，同时保持非零元素的相对顺序。\n",
    "\n",
    "请注意 ，必须在不复制数组的情况下原地对数组进行操作。"
   ]
  },
  {
   "attachments": {},
   "cell_type": "markdown",
   "metadata": {},
   "source": [
    "### 示例\n",
    "输入: nums = [0,1,0,3,12]\n",
    "输出: [1,3,12,0,0]\n",
    "\n",
    "输入: nums = [0]\n",
    "输出: [0]"
   ]
  },
  {
   "attachments": {},
   "cell_type": "markdown",
   "metadata": {},
   "source": [
    "### 解题思路1.双指针\n",
    "    初始化两个指针i，j=i+1。i的功能是它前面的数字都不为0，j的功能是在后面寻找新非零元素，如果找到，判断第i个元素是否为0，如果为0，则赋值给i；非零，则赋值给i+1，并更新i: i+=1。"
   ]
  },
  {
   "cell_type": "code",
   "execution_count": 180,
   "metadata": {},
   "outputs": [],
   "source": [
    "class Solution(object):\n",
    "    def moveZeroes(self, nums):\n",
    "        \"\"\"\n",
    "        :type nums: List[int]\n",
    "        :rtype: None Do not return anything, modify nums in-place instead.\n",
    "        \"\"\"\n",
    "        n = len(nums)\n",
    "        i = 0\n",
    "        for j in range(1, n):\n",
    "            if nums[j]:\n",
    "                if nums[i] != 0:\n",
    "                    nums[i+1] = nums[j]\n",
    "                    i += 1\n",
    "                else:\n",
    "                    nums[i] = nums[j]\n",
    "        for c in range(i+1, n):\n",
    "            nums[c] = 0\n",
    "        return nums"
   ]
  },
  {
   "cell_type": "code",
   "execution_count": 181,
   "metadata": {},
   "outputs": [
    {
     "data": {
      "text/plain": [
       "[1, 3, 12, 0, 0]"
      ]
     },
     "execution_count": 181,
     "metadata": {},
     "output_type": "execute_result"
    }
   ],
   "source": [
    "nums = [0,1,0,3,12]\n",
    "s = Solution()\n",
    "result = s.moveZeroes(nums)\n",
    "result"
   ]
  },
  {
   "attachments": {},
   "cell_type": "markdown",
   "metadata": {},
   "source": [
    "## 9 两数之和\n",
    "给定一个整数数组 nums 和一个整数目标值 target，请你在该数组中找出 和为目标值 target  的那 两个 整数，并返回它们的数组下标。\n",
    "\n",
    "你可以假设每种输入只会对应一个答案。但是，数组中同一个元素在答案里不能重复出现。\n",
    "\n",
    "你可以按任意顺序返回答案"
   ]
  },
  {
   "attachments": {},
   "cell_type": "markdown",
   "metadata": {},
   "source": [
    "### 示例\n",
    "输入：nums = [2,7,11,15], target = 9\n",
    "输出：[0,1]\n",
    "解释：因为 nums[0] + nums[1] == 9 ，返回 [0, 1] 。\n",
    "\n",
    "输入：nums = [3,2,4], target = 6\n",
    "输出：[1,2]"
   ]
  },
  {
   "attachments": {},
   "cell_type": "markdown",
   "metadata": {},
   "source": [
    "### 解题思路 1\n",
    "先将数组排序：用（sorted）给数组的索引排序\n",
    "双指针放在头和尾部：用排序好的索引\n",
    "和大于target尾指针左移，和小于target头指针右移"
   ]
  },
  {
   "cell_type": "code",
   "execution_count": 220,
   "metadata": {},
   "outputs": [],
   "source": [
    "class Solution(object):\n",
    "    def twoSum(self, nums, target):\n",
    "        \"\"\"\n",
    "        :type nums: List[int]\n",
    "        :type target: int\n",
    "        :rtype: List[int]\n",
    "        \"\"\"\n",
    "        n = len(nums)\n",
    "        index_nums = list(range(n))\n",
    "        new_nums = sorted(index_nums, key=lambda i:nums[i])\n",
    "        # print(new_nums)\n",
    "        m = 0\n",
    "        l = n-1\n",
    "        i = new_nums[m]\n",
    "        j = new_nums[l]\n",
    "        while nums[i]+nums[j] != target:\n",
    "            if nums[i]+nums[j] < target:\n",
    "                m += 1\n",
    "                i = new_nums[m]\n",
    "            elif nums[i]+nums[j] > target:\n",
    "                l -= 1\n",
    "                j = new_nums[l]\n",
    "        return [new_nums[m], new_nums[l]]"
   ]
  },
  {
   "cell_type": "code",
   "execution_count": 222,
   "metadata": {},
   "outputs": [
    {
     "data": {
      "text/plain": [
       "[1, 2]"
      ]
     },
     "execution_count": 222,
     "metadata": {},
     "output_type": "execute_result"
    }
   ],
   "source": [
    "nums = [3,2,4]\n",
    "n = len(nums)\n",
    "target = 6\n",
    "s = Solution()\n",
    "result = s.twoSum(nums, target)\n",
    "result"
   ]
  },
  {
   "cell_type": "code",
   "execution_count": 207,
   "metadata": {},
   "outputs": [
    {
     "data": {
      "text/plain": [
       "[0, 1, 2, 3, 4, 5, 6, 7, 8, 9]"
      ]
     },
     "execution_count": 207,
     "metadata": {},
     "output_type": "execute_result"
    }
   ],
   "source": [
    "n = list(range(10))\n",
    "n"
   ]
  }
 ],
 "metadata": {
  "kernelspec": {
   "display_name": "Python 3",
   "language": "python",
   "name": "python3"
  },
  "language_info": {
   "codemirror_mode": {
    "name": "ipython",
    "version": 3
   },
   "file_extension": ".py",
   "mimetype": "text/x-python",
   "name": "python",
   "nbconvert_exporter": "python",
   "pygments_lexer": "ipython3",
   "version": "3.10.9"
  },
  "orig_nbformat": 4
 },
 "nbformat": 4,
 "nbformat_minor": 2
}
